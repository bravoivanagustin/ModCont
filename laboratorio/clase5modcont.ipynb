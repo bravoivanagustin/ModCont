{
  "cells": [
    {
      "cell_type": "markdown",
      "metadata": {
        "id": "zPAsgJ78eMlo"
      },
      "source": [
        "## **Ejercicio 1: a) Problema de valores de contorno aproximado con diferencias finitas.**"
      ]
    },
    {
      "cell_type": "markdown",
      "metadata": {
        "id": "SNPeFMTGegPG"
      },
      "source": [
        "## **Resolveremos el siguiente ejercicio utilizando discretizaciones para la derivada primera y segunda.**"
      ]
    },
    {
      "cell_type": "markdown",
      "metadata": {
        "id": "TSNX8AmOeymF"
      },
      "source": [
        "\\begin{equation*}\n",
        "\\begin{aligned}\n",
        "y^{''}(x)+ \\gamma \\,\\, y^{'}(x)+ \\beta \\,\\, y(x) = f(x),  x \\in [0,1] \\\\\n",
        "y(0)=\\alpha \\\\\n",
        "y(1)=\\eta\n",
        "\\end{aligned} \n",
        "\\end{equation*}\n",
        "\n",
        "Tomando $h=0.01$, $\\gamma=\\alpha=1$, $\\beta=\\eta=0$ y $f(x)=-\\frac{\\pi}{2}[ \\sin(\\frac{\\pi}{2} x)+ \\frac{\\pi}{2} \\cos (\\frac{\\pi}{2} x)]$."
      ]
    },
    {
      "cell_type": "markdown",
      "metadata": {
        "id": "UcfJ7KKJ3_iw"
      },
      "source": [
        "\\begin{equation*}\n",
        "\\left\\{\n",
        "\\begin{aligned}\n",
        "y_i \\Big( \\frac{1}{h^2}-\\frac{3 \\, \\gamma}{2 \\, h} + \\beta \\Big) + y_{i+1}  \\Big( \\frac{-2}{h^2} + \\frac{2 \\, \\gamma}{h} \\Big) + y_{i+2} \\Big( \\frac{1}{h^2} - \\frac{\\gamma}{2 \\, h} \\Big)&=f_{i} \\quad (0 \\leq i \\leq N-2)\\\\\n",
        "y_0 &=\\alpha \\\\\n",
        "y_N &=\\eta\n",
        "\\end{aligned}\n",
        "\\right.\n",
        "\\end{equation*}\n"
      ]
    },
    {
      "cell_type": "code",
      "execution_count": 1,
      "metadata": {
        "id": "8AoKL5xbeKBy"
      },
      "outputs": [],
      "source": [
        "import numpy as np\n",
        "import matplotlib.pyplot as plt"
      ]
    },
    {
      "cell_type": "code",
      "execution_count": null,
      "metadata": {
        "id": "S53u8YH1hQcW"
      },
      "outputs": [],
      "source": [
        "def f(x):\n",
        "  return np.sin(np.pi*100*x)"
      ]
    },
    {
      "cell_type": "code",
      "execution_count": 40,
      "metadata": {
        "id": "ymTotDFUdLPg"
      },
      "outputs": [],
      "source": [
        "def DifFinitas(a,b,alfa,beta, gama,eta,h,f):\n",
        "  N = int((b-a)/h)\n",
        "  t = np.linspace(a,b,N+1)\n",
        "  u = np.zeros(N-1)\n",
        "  b = np.zeros(N-1)\n",
        "\n",
        "  Ndiag = (-2/(h**2))+(2*gama/h)\n",
        "  NdiagAbajo = (1/(h**2))-(3*gama/(2*h))+beta\n",
        "  NdiagArriba = (1/(h**2))-(gama/(2*h))\n",
        "\n",
        "  for i in range(0,N-1):\n",
        "     b[i] = f(t[i])\n",
        "\n",
        "  b[0] = b[0]-alfa*NdiagAbajo\n",
        "  b[N-2] = b[N-2]-eta*NdiagArriba\n",
        "\n",
        "\n",
        "  Diag = np.ones(N-1)*Ndiag\n",
        "  DiagArriba = np.ones(N-2)*NdiagArriba\n",
        "  DiagAbajo = np.ones(N-2)*NdiagAbajo\n",
        "\n",
        "\n",
        "  A = np.diag(Diag)+np.diag(DiagArriba,1)+np.diag(DiagAbajo,-1)\n",
        "\n",
        "  u = np.linalg.solve(A,b)\n",
        "\n",
        "  return t,u,A"
      ]
    },
    {
      "cell_type": "code",
      "execution_count": 41,
      "metadata": {
        "id": "KLmZZtn2jTdM"
      },
      "outputs": [],
      "source": [
        "a=0\n",
        "b=1\n",
        "alfa=0\n",
        "gama=1\n",
        "beta=1\n",
        "eta=1\n",
        "h=0.01"
      ]
    },
    {
      "cell_type": "code",
      "execution_count": 42,
      "metadata": {
        "colab": {
          "base_uri": "https://localhost:8080/"
        },
        "id": "91B2y9zSjOW3",
        "outputId": "07093ece-6367-4326-8423-72f36e85458e"
      },
      "outputs": [
        {
          "name": "stdout",
          "output_type": "stream",
          "text": [
            "[0.01868287 0.03717796 0.0554853  0.07360491 0.09153684 0.10928115\n",
            " 0.12683792 0.14420727 0.16138929 0.17838415 0.19519197 0.21181295\n",
            " 0.22824727 0.24449513 0.26055675 0.27643238 0.29212227 0.30762668\n",
            " 0.32294592 0.33808028 0.35303007 0.36779564 0.38237733 0.39677551\n",
            " 0.41099055 0.42502285 0.43887281 0.45254087 0.46602745 0.479333\n",
            " 0.49245799 0.5054029  0.51816822 0.53075445 0.5431621  0.55539171\n",
            " 0.56744383 0.579319   0.59101779 0.60254078 0.61388856 0.62506174\n",
            " 0.63606093 0.64688675 0.65753985 0.66802087 0.67833046 0.6884693\n",
            " 0.69843807 0.70823746 0.71786817 0.72733091 0.73662639 0.74575536\n",
            " 0.75471855 0.7635167  0.77215058 0.78062095 0.78892858 0.79707427\n",
            " 0.80505881 0.81288299 0.82054762 0.82805352 0.83540153 0.84259246\n",
            " 0.84962716 0.85650648 0.86323127 0.86980239 0.87622071 0.88248711\n",
            " 0.88860247 0.89456768 0.90038363 0.90605122 0.91157135 0.91694495\n",
            " 0.92217293 0.92725621 0.93219572 0.9369924  0.94164718 0.94616101\n",
            " 0.95053483 0.95476961 0.95886629 0.96282585 0.96664924 0.97033744\n",
            " 0.97389142 0.97731216 0.98060065 0.98375786 0.98678479 0.98968242\n",
            " 0.99245176 0.9950938  0.99760955]\n"
          ]
        }
      ],
      "source": [
        "t,Solucion,Matriz=DifFinitas(a,b,alfa,beta, gama,eta,h,f)\n",
        "print(Solucion)"
      ]
    },
    {
      "cell_type": "markdown",
      "metadata": {
        "id": "Gaoo5rIOnBUG"
      },
      "source": [
        "## **A la solución debo agregarle los bordes que eran datos**"
      ]
    },
    {
      "cell_type": "code",
      "execution_count": 43,
      "metadata": {
        "colab": {
          "base_uri": "https://localhost:8080/"
        },
        "id": "ioQIsZYXkpe3",
        "outputId": "d63243ea-ac59-4c4a-9b18-02a9e32cf71b"
      },
      "outputs": [
        {
          "name": "stdout",
          "output_type": "stream",
          "text": [
            "[0.01868287 0.03717796 0.0554853  0.07360491 0.09153684 0.10928115\n",
            " 0.12683792 0.14420727 0.16138929 0.17838415 0.19519197 0.21181295\n",
            " 0.22824727 0.24449513 0.26055675 0.27643238 0.29212227 0.30762668\n",
            " 0.32294592 0.33808028 0.35303007 0.36779564 0.38237733 0.39677551\n",
            " 0.41099055 0.42502285 0.43887281 0.45254087 0.46602745 0.479333\n",
            " 0.49245799 0.5054029  0.51816822 0.53075445 0.5431621  0.55539171\n",
            " 0.56744383 0.579319   0.59101779 0.60254078 0.61388856 0.62506174\n",
            " 0.63606093 0.64688675 0.65753985 0.66802087 0.67833046 0.6884693\n",
            " 0.69843807 0.70823746 0.71786817 0.72733091 0.73662639 0.74575536\n",
            " 0.75471855 0.7635167  0.77215058 0.78062095 0.78892858 0.79707427\n",
            " 0.80505881 0.81288299 0.82054762 0.82805352 0.83540153 0.84259246\n",
            " 0.84962716 0.85650648 0.86323127 0.86980239 0.87622071 0.88248711\n",
            " 0.88860247 0.89456768 0.90038363 0.90605122 0.91157135 0.91694495\n",
            " 0.92217293 0.92725621 0.93219572 0.9369924  0.94164718 0.94616101\n",
            " 0.95053483 0.95476961 0.95886629 0.96282585 0.96664924 0.97033744\n",
            " 0.97389142 0.97731216 0.98060065 0.98375786 0.98678479 0.98968242\n",
            " 0.99245176 0.9950938  0.99760955 1.        ]\n"
          ]
        }
      ],
      "source": [
        "SolucionBD=np.append( Solucion,eta)\n",
        "print(SolucionBD)"
      ]
    },
    {
      "cell_type": "code",
      "execution_count": 44,
      "metadata": {
        "colab": {
          "base_uri": "https://localhost:8080/"
        },
        "id": "QcS_md-blzQ1",
        "outputId": "7a706f85-1651-413a-fa85-83dcea9cd067"
      },
      "outputs": [
        {
          "name": "stdout",
          "output_type": "stream",
          "text": [
            "[0.         0.01868287 0.03717796 0.0554853  0.07360491 0.09153684\n",
            " 0.10928115 0.12683792 0.14420727 0.16138929 0.17838415 0.19519197\n",
            " 0.21181295 0.22824727 0.24449513 0.26055675 0.27643238 0.29212227\n",
            " 0.30762668 0.32294592 0.33808028 0.35303007 0.36779564 0.38237733\n",
            " 0.39677551 0.41099055 0.42502285 0.43887281 0.45254087 0.46602745\n",
            " 0.479333   0.49245799 0.5054029  0.51816822 0.53075445 0.5431621\n",
            " 0.55539171 0.56744383 0.579319   0.59101779 0.60254078 0.61388856\n",
            " 0.62506174 0.63606093 0.64688675 0.65753985 0.66802087 0.67833046\n",
            " 0.6884693  0.69843807 0.70823746 0.71786817 0.72733091 0.73662639\n",
            " 0.74575536 0.75471855 0.7635167  0.77215058 0.78062095 0.78892858\n",
            " 0.79707427 0.80505881 0.81288299 0.82054762 0.82805352 0.83540153\n",
            " 0.84259246 0.84962716 0.85650648 0.86323127 0.86980239 0.87622071\n",
            " 0.88248711 0.88860247 0.89456768 0.90038363 0.90605122 0.91157135\n",
            " 0.91694495 0.92217293 0.92725621 0.93219572 0.9369924  0.94164718\n",
            " 0.94616101 0.95053483 0.95476961 0.95886629 0.96282585 0.96664924\n",
            " 0.97033744 0.97389142 0.97731216 0.98060065 0.98375786 0.98678479\n",
            " 0.98968242 0.99245176 0.9950938  0.99760955 1.        ]\n"
          ]
        }
      ],
      "source": [
        "SolucionBIBD=np.append(alfa,SolucionBD )\n",
        "print(SolucionBIBD)"
      ]
    },
    {
      "cell_type": "markdown",
      "metadata": {
        "id": "sXm5Kn4dnPKl"
      },
      "source": [
        "## **Ahora sí puedo graficar pues t y la solución tienen igual dimensión.**"
      ]
    },
    {
      "cell_type": "code",
      "execution_count": 45,
      "metadata": {
        "colab": {
          "base_uri": "https://localhost:8080/",
          "height": 466
        },
        "id": "JqHFHL2No-LP",
        "outputId": "a653844d-7154-49bd-9150-ad40f1e63090"
      },
      "outputs": [
        {
          "data": {
            "text/plain": [
              "[<matplotlib.lines.Line2D at 0x20eff7f9f90>]"
            ]
          },
          "execution_count": 45,
          "metadata": {},
          "output_type": "execute_result"
        },
        {
          "data": {
            "image/png": "[encoded data removed]",
            "text/plain": [
              "<Figure size 640x480 with 1 Axes>"
            ]
          },
          "metadata": {},
          "output_type": "display_data"
        }
      ],
      "source": [
        "plt.plot(t,SolucionBIBD,'b')"
      ]
    },
    {
      "cell_type": "markdown",
      "metadata": {
        "id": "djL9JNw02g04"
      },
      "source": [
        "## **Dibujo la exacta para comparar**"
      ]
    },
    {
      "cell_type": "code",
      "execution_count": 46,
      "metadata": {
        "colab": {
          "base_uri": "https://localhost:8080/",
          "height": 448
        },
        "id": "cH5Kb4SY_rsS",
        "outputId": "d258741c-cebe-448d-8afa-0f3f5a394076"
      },
      "outputs": [
        {
          "data": {
            "text/plain": [
              "[<matplotlib.lines.Line2D at 0x20eff84bd90>]"
            ]
          },
          "execution_count": 46,
          "metadata": {},
          "output_type": "execute_result"
        },
        {
          "data": {
            "image/png": "[encoded data removed]",
            "text/plain": [
              "<Figure size 640x480 with 1 Axes>"
            ]
          },
          "metadata": {},
          "output_type": "display_data"
        }
      ],
      "source": [
        "x=np.linspace(0,1,50)\n",
        "plt.plot(x,np.cos(0.5*np.pi*x))"
      ]
    }
  ],
  "metadata": {
    "colab": {
      "provenance": []
    },
    "kernelspec": {
      "display_name": "Python 3",
      "name": "python3"
    },
    "language_info": {
      "codemirror_mode": {
        "name": "ipython",
        "version": 3
      },
      "file_extension": ".py",
      "mimetype": "text/x-python",
      "name": "python",
      "nbconvert_exporter": "python",
      "pygments_lexer": "ipython3",
      "version": "3.13.2"
    }
  },
  "nbformat": 4,
  "nbformat_minor": 0
}
